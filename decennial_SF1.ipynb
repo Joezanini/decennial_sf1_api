{
 "cells": [
  {
   "cell_type": "markdown",
   "id": "a4822baf",
   "metadata": {},
   "source": [
    "# Pulling Decennial SF1 DATA"
   ]
  },
  {
   "cell_type": "code",
   "execution_count": 3,
   "id": "bdab7082",
   "metadata": {},
   "outputs": [
    {
     "data": {
      "text/plain": [
       "True"
      ]
     },
     "execution_count": 3,
     "metadata": {},
     "output_type": "execute_result"
    }
   ],
   "source": [
    "base_url = \"http://api.census.gov/data/2010/dec/sf1?\"\n",
    "\n",
    "import requests\n",
    "\n",
    "response = requests.get(base_url)\n",
    "\n",
    "response.ok"
   ]
  },
  {
   "cell_type": "markdown",
   "id": "59f78fa0",
   "metadata": {},
   "source": [
    "let's check the status code of the response"
   ]
  },
  {
   "cell_type": "code",
   "execution_count": 5,
   "id": "7fdd3285",
   "metadata": {},
   "outputs": [
    {
     "data": {
      "text/plain": [
       "200"
      ]
     },
     "execution_count": 5,
     "metadata": {},
     "output_type": "execute_result"
    }
   ],
   "source": [
    "response.status_code"
   ]
  },
  {
   "cell_type": "markdown",
   "id": "ee0c4e46",
   "metadata": {},
   "source": [
    "Handling the JSON"
   ]
  },
  {
   "cell_type": "code",
   "execution_count": 8,
   "id": "437c63d5",
   "metadata": {},
   "outputs": [
    {
     "data": {
      "text/plain": [
       "{'@context': 'https://project-open-data.cio.gov/v1.1/schema/catalog.jsonld',\n",
       " '@id': 'https://api.census.gov/data/2010/dec/sf1.json',\n",
       " '@type': 'dcat:Catalog',\n",
       " 'conformsTo': 'https://project-open-data.cio.gov/v1.1/schema',\n",
       " 'describedBy': 'https://project-open-data.cio.gov/v1.1/schema/catalog.json',\n",
       " 'dataset': [{'c_vintage': 2010,\n",
       "   'c_dataset': ['dec', 'sf1'],\n",
       "   'c_geographyLink': 'https://api.census.gov/data/2010/dec/sf1/geography.json',\n",
       "   'c_variablesLink': 'https://api.census.gov/data/2010/dec/sf1/variables.json',\n",
       "   'c_tagsLink': 'https://api.census.gov/data/2010/dec/sf1/tags.json',\n",
       "   'c_examplesLink': 'https://api.census.gov/data/2010/dec/sf1/examples.json',\n",
       "   'c_groupsLink': 'https://api.census.gov/data/2010/dec/sf1/groups.json',\n",
       "   'c_valuesLink': 'https://api.census.gov/data/2010/dec/sf1/values.json',\n",
       "   'c_documentationLink': 'https://www.census.gov/developer/',\n",
       "   'c_isAggregate': True,\n",
       "   'c_isCube': True,\n",
       "   'c_isAvailable': True,\n",
       "   '@type': 'dcat:Dataset',\n",
       "   'title': 'Decennial SF1',\n",
       "   'description': 'Summary File 1 (SF 1) contains detailed tables focusing on age, sex, households, families, and housing units. These tables provide in-depth figures by race and Hispanic origin> some tables are repeated for each of nine race/Latino groups. Counts also are provided for over forty American Indian and Alaska Native tribes and for groups within race categories. The race categories include eighteen Asian groups and twelve Native Hawaiian and Other Pacific Islander groups. Counts of persons of Hispanic origin by country of origin (twenty-eight groups) are also shown. Summary File 1 presents data for the United States, the 50 states, and the District of Columbia in a hierarchical sequence down to the block level for many tabulations, but only to the census tract level for others. Summaries are included for other geographic areas such as ZIP Code Tabulation Areas (ZCTAs) and Congressional districts. Geographic coverage for Puerto Rico is comparable to the 50 states. Data are presented in a hierarchical sequence down the block level for many tabulations, but only to the census tract level for others. Geographic areas include barrios, barrios-pueblo, subbarrios, places, census tracts, block groups, and blocks. Summaries also are included for other geographic areas such as ZIP Code Tabulation Areas (ZCTAs).',\n",
       "   'distribution': [{'@type': 'dcat:Distribution',\n",
       "     'accessURL': 'https://api.census.gov/data/2010/dec/sf1',\n",
       "     'description': 'API endpoint',\n",
       "     'format': 'API',\n",
       "     'mediaType': 'application/json',\n",
       "     'title': 'API endpoint'}],\n",
       "   'contactPoint': {'fn': 'Census Bureau Call Center',\n",
       "    'hasEmail': 'mailto:pio@census.gov'},\n",
       "   'identifier': 'https://api.census.gov/data/id/DECENNIALSF12010',\n",
       "   'keyword': [],\n",
       "   'license': 'https://creativecommons.org/publicdomain/zero/1.0/',\n",
       "   'modified': '2018-08-28 12:52:11.0',\n",
       "   'programCode': ['006:004'],\n",
       "   'references': ['https://www.census.gov/developers/'],\n",
       "   'temporal': 'unidentified',\n",
       "   'publisher': {'@type': 'org:Organization',\n",
       "    'name': 'U.S. Census Bureau',\n",
       "    'subOrganizationOf': {'@type': 'org:Organization',\n",
       "     'name': 'U.S. Department Of Commerce',\n",
       "     'subOrganizationOf': {'@type': 'org:Organization',\n",
       "      'name': 'U.S. Government'}}}}]}"
      ]
     },
     "execution_count": 8,
     "metadata": {},
     "output_type": "execute_result"
    }
   ],
   "source": [
    "response.json()"
   ]
  },
  {
   "cell_type": "code",
   "execution_count": 9,
   "id": "54797a75",
   "metadata": {},
   "outputs": [],
   "source": [
    "import json"
   ]
  },
  {
   "cell_type": "code",
   "execution_count": 10,
   "id": "e5b919a3",
   "metadata": {},
   "outputs": [
    {
     "name": "stdout",
     "output_type": "stream",
     "text": [
      "{\n",
      "    \"@context\": \"https://project-open-data.cio.gov/v1.1/schema/catalog.jsonld\",\n",
      "    \"@id\": \"https://api.census.gov/data/2010/dec/sf1.json\",\n",
      "    \"@type\": \"dcat:Catalog\",\n",
      "    \"conformsTo\": \"https://project-open-data.cio.gov/v1.1/schema\",\n",
      "    \"describedBy\": \"https://project-open-data.cio.gov/v1.1/schema/catalog.json\",\n",
      "    \"dataset\": [\n",
      "        {\n",
      "            \"c_vintage\": 2010,\n",
      "            \"c_dataset\": [\n",
      "                \"dec\",\n",
      "                \"sf1\"\n",
      "            ],\n",
      "            \"c_geographyLink\": \"https://api.census.gov/data/2010/dec/sf1/geography.json\",\n",
      "            \"c_variablesLink\": \"https://api.census.gov/data/2010/dec/sf1/variables.json\",\n",
      "            \"c_tagsLink\": \"https://api.census.gov/data/2010/dec/sf1/tags.json\",\n",
      "            \"c_examplesLink\": \"https://api.census.gov/data/2010/dec/sf1/examples.json\",\n",
      "            \"c_groupsLink\": \"https://api.census.gov/data/2010/dec/sf1/groups.json\",\n",
      "            \"c_valuesLink\": \"https://api.census.gov/data/2010/dec/sf1/values.json\",\n",
      "            \"c_documentationLink\": \"https://www.census.gov/developer/\",\n",
      "            \"c_isAggregate\": true,\n",
      "            \"c_isCube\": true,\n",
      "            \"c_isAvailable\": true,\n",
      "            \"@type\": \"dcat:Dataset\",\n",
      "            \"title\": \"Decennial SF1\",\n",
      "            \"description\": \"Summary File 1 (SF 1) contains detailed tables focusing on age, sex, households, families, and housing units. These tables provide in-depth figures by race and Hispanic origin> some tables are repeated for each of nine race/Latino groups. Counts also are provided for over forty American Indian and Alaska Native tribes and for groups within race categories. The race categories include eighteen Asian groups and twelve Native Hawaiian and Other Pacific Islander groups. Counts of persons of Hispanic origin by country of origin (twenty-eight groups) are also shown. Summary File 1 presents data for the United States, the 50 states, and the District of Columbia in a hierarchical sequence down to the block level for many tabulations, but only to the census tract level for others. Summaries are included for other geographic areas such as ZIP Code Tabulation Areas (ZCTAs) and Congressional districts. Geographic coverage for Puerto Rico is comparable to the 50 states. Data are presented in a hierarchical sequence down the block level for many tabulations, but only to the census tract level for others. Geographic areas include barrios, barrios-pueblo, subbarrios, places, census tracts, block groups, and blocks. Summaries also are included for other geographic areas such as ZIP Code Tabulation Areas (ZCTAs).\",\n",
      "            \"distribution\": [\n",
      "                {\n",
      "                    \"@type\": \"dcat:Distribution\",\n",
      "                    \"accessURL\": \"https://api.census.gov/data/2010/dec/sf1\",\n",
      "                    \"description\": \"API endpoint\",\n",
      "                    \"format\": \"API\",\n",
      "                    \"mediaType\": \"application/json\",\n",
      "                    \"title\": \"API endpoint\"\n",
      "                }\n",
      "            ],\n",
      "            \"contactPoint\": {\n",
      "                \"fn\": \"Census Bureau Call Center\",\n",
      "                \"hasEmail\": \"mailto:pio@census.gov\"\n",
      "            },\n",
      "            \"identifier\": \"https://api.census.gov/data/id/DECENNIALSF12010\",\n",
      "            \"keyword\": [],\n",
      "            \"license\": \"https://creativecommons.org/publicdomain/zero/1.0/\",\n",
      "            \"modified\": \"2018-08-28 12:52:11.0\",\n",
      "            \"programCode\": [\n",
      "                \"006:004\"\n",
      "            ],\n",
      "            \"references\": [\n",
      "                \"https://www.census.gov/developers/\"\n",
      "            ],\n",
      "            \"temporal\": \"unidentified\",\n",
      "            \"publisher\": {\n",
      "                \"@type\": \"org:Organization\",\n",
      "                \"name\": \"U.S. Census Bureau\",\n",
      "                \"subOrganizationOf\": {\n",
      "                    \"@type\": \"org:Organization\",\n",
      "                    \"name\": \"U.S. Department Of Commerce\",\n",
      "                    \"subOrganizationOf\": {\n",
      "                        \"@type\": \"org:Organization\",\n",
      "                        \"name\": \"U.S. Government\"\n",
      "                    }\n",
      "                }\n",
      "            }\n",
      "        }\n",
      "    ]\n",
      "}\n"
     ]
    }
   ],
   "source": [
    "print(json.dumps(response.json(), indent = 4))"
   ]
  },
  {
   "cell_type": "code",
   "execution_count": null,
   "id": "d883b5ee",
   "metadata": {},
   "outputs": [],
   "source": []
  }
 ],
 "metadata": {
  "kernelspec": {
   "display_name": "Python 3",
   "language": "python",
   "name": "python3"
  },
  "language_info": {
   "codemirror_mode": {
    "name": "ipython",
    "version": 3
   },
   "file_extension": ".py",
   "mimetype": "text/x-python",
   "name": "python",
   "nbconvert_exporter": "python",
   "pygments_lexer": "ipython3",
   "version": "3.8.8"
  }
 },
 "nbformat": 4,
 "nbformat_minor": 5
}
